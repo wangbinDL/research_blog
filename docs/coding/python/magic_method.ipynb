{
 "cells": [
  {
   "attachments": {},
   "cell_type": "markdown",
   "metadata": {},
   "source": [
    "# 1. \\_\\_init\\_\\_ 和 \\_\\_new\\_\\_ 用法详解\n",
    "\n",
    "Python中一切皆对象，python类本身也是对象，可以称之为类对象。`对象`=`属性`+`方法`，对象是类的实例，准确地说：实例对象是类对象的实例。\n",
    "\n",
    "\n",
    "类中的\\_\\_init\\_\\_函数用负责当前类实例对象的初始化，也就是在执行\\_\\_init\\_\\_之前，实例对象已经存在了。"
   ]
  },
  {
   "cell_type": "code",
   "execution_count": 1,
   "metadata": {},
   "outputs": [
    {
     "name": "stdout",
     "output_type": "stream",
     "text": [
      "in the func of Dog.__new__ \n",
      "in the func of Dog.__init__\n",
      "self: <__main__.Dog object at 0x7f87a15d0b20>\n",
      "self.__class__:<class '__main__.Dog'>\n"
     ]
    }
   ],
   "source": [
    "class Dog(object):\n",
    "    def __new__(cls, *args, **kwargs):\n",
    "        print('in the func of Dog.__new__ ')\n",
    "        # return super(Dog, cls).__new__(cls)\n",
    "        return object.__new__(cls) # 跟上述注释语句等价\n",
    "    \n",
    "    def __init__(self):\n",
    "        print('in the func of Dog.__init__')\n",
    "        print(f'self: {self}')\n",
    "        print(f'self.__class__:{self.__class__}')\n",
    "\n",
    "d1 = Dog()"
   ]
  },
  {
   "attachments": {},
   "cell_type": "markdown",
   "metadata": {},
   "source": [
    "1. 从上述例子可以看出，当实例化Dog类时，python首先调用类对象的\\_\\_new\\_\\_方法，如果该对象没有定义\\_\\_new\\_\\_方法，则去父类中查找，知道object类  \n",
    "2. object.__new__(cls)时调用父类object的\\_\\_new\\_\\_()函数，或者通过super(Dog, cls)调用Dog父类（本例子中依然是object）  \n",
    "3. \\_\\_new\\_\\_()需要传递一个参数cls， \\_\\_init\\_\\_需要传递参数self, self代表`实例对象`本身，而cls代表`类对象`本身。python中的self相当于C++中的this指针。\n",
    "4. \\_\\_new\\_\\_必须有返回值，返回实例化出来的实例对象(实际上就是self)\n",
    "\n",
    "\n",
    "通常来说，类开始实例化时，\\_\\_new\\_\\_()方法会返回cls的实例，然后该类的\\_\\_init\\_\\_方法接受这个实例作为自己的第一个参数（即self）。\n",
    "如果\\_\\_new\\_\\_()没有返回cls(即当前类的实例)，那么当前类的\\_\\_init\\_\\_()方法不会被调用，如果\\_\\_new\\_\\_()返回了其他类的实例，那么只会调用被返回的那个类的构造方法。\n",
    "代码如下："
   ]
  },
  {
   "cell_type": "code",
   "execution_count": 2,
   "metadata": {},
   "outputs": [
    {
     "name": "stdout",
     "output_type": "stream",
     "text": [
      "run thr new of A\n",
      "<class '__main__.B'>\n",
      "run the new of B\n",
      "run the init of B\n",
      "<class '__main__.B'>\n"
     ]
    }
   ],
   "source": [
    "class A(object):\n",
    "    def __init__(self, *args, **kwargs):\n",
    "        print(\"run the init of A\")\n",
    "    def __new__(cls, *args, **kwargs):\n",
    "        print(\"run thr new of A\")\n",
    "        return object.__new__(B, *args, **kwargs)\n",
    "\n",
    "class B(object):\n",
    "    def __init__(self):\n",
    "        print(\"run the init of B\")\n",
    "    def __new__(cls, *args, **kwargs):\n",
    "        print(\"run the new of B\")\n",
    "        return object.__new__(cls)\n",
    "\n",
    "a = A()\n",
    "print(type(a))\n",
    "# run thr new of A\n",
    "# <class '__main__.B'>\n",
    "b = B()\n",
    "print(type(b))\n",
    "# run the new of B\n",
    "# run the init of B\n",
    "# <class '__main__.B'>"
   ]
  },
  {
   "attachments": {},
   "cell_type": "markdown",
   "metadata": {},
   "source": [
    "接下来使用 \\_\\_new\\_\\_()来实现`单例模式`\n",
    "\n",
    "1. 什么是单例模式\n",
    "\n",
    "某些时候一个类应该有且仅有一个实例，例如电脑上只有一个回收站。\n",
    "确保某个类只有一个实例，自行实例化并向系统提供这个实例，这个类称为单例类，单例模式是一种对象创建型模式\n",
    "\n",
    "2. 创建单例--确保只有一个对象"
   ]
  },
  {
   "cell_type": "code",
   "execution_count": 3,
   "metadata": {},
   "outputs": [
    {
     "name": "stdout",
     "output_type": "stream",
     "text": [
      "id(a)==id(b):True\n",
      "bin.age=18, bin.name=Wen\n",
      "wen.age=18, wen.name=Wen\n",
      "wen.eamil:bin@163.com\n"
     ]
    }
   ],
   "source": [
    "class Singleton(object):\n",
    "    __instance = None\n",
    "\n",
    "    def __new__(cls, age, name):\n",
    "        if not cls.__instance:\n",
    "            cls.__instance = object.__new__(cls)\n",
    "        return cls.__instance\n",
    "    \n",
    "    def __init__(self, age, name):\n",
    "        self.name = name\n",
    "        self.age = age\n",
    "    \n",
    "\n",
    "bin = Singleton(19, 'Bin')\n",
    "wen = Singleton(18, 'Wen')\n",
    "\n",
    "print(f'id(a)==id(b):{id(bin)==id(wen)}')\n",
    "print(f'bin.age={bin.age}, bin.name={bin.name}')\n",
    "print(f'wen.age={wen.age}, wen.name={wen.name}')\n",
    "bin.email = 'bin@163.com'\n",
    "print(f'wen.eamil:{wen.email}')"
   ]
  },
  {
   "attachments": {},
   "cell_type": "markdown",
   "metadata": {},
   "source": [
    "上述的本来想创建两个实例，但实际上只有一个，第二次创建实例实际上仅对第一个实例重新初始化参数。\n",
    "下面我们不需要第二次初始化修改实例参数"
   ]
  },
  {
   "cell_type": "code",
   "execution_count": 4,
   "metadata": {},
   "outputs": [
    {
     "name": "stdout",
     "output_type": "stream",
     "text": [
      "id(a)==id(b):True\n",
      "bin.age=19, bin.name=Bin\n",
      "wen.age=19, wen.name=Bin\n",
      "wen.eamil:bin@163.com\n"
     ]
    }
   ],
   "source": [
    "class Singleton(object):\n",
    "    __instance = None\n",
    "    __init_first = None\n",
    "\n",
    "    def __new__(cls, age, name):\n",
    "        if not cls.__instance:\n",
    "            cls.__instance = object.__new__(cls)\n",
    "        return cls.__instance\n",
    "    \n",
    "    def __init__(self, age, name):\n",
    "        if not Singleton.__init_first:\n",
    "            self.name = name\n",
    "            self.age = age\n",
    "            Singleton.__init_first = True\n",
    "    \n",
    "\n",
    "bin = Singleton(19, 'Bin')\n",
    "wen = Singleton(18, 'Wen')\n",
    "\n",
    "print(f'id(a)==id(b):{id(bin)==id(wen)}')\n",
    "print(f'bin.age={bin.age}, bin.name={bin.name}')\n",
    "print(f'wen.age={wen.age}, wen.name={wen.name}')\n",
    "bin.email = 'bin@163.com'\n",
    "print(f'wen.eamil:{wen.email}')"
   ]
  },
  {
   "attachments": {},
   "cell_type": "markdown",
   "metadata": {},
   "source": [
    "### 总结 \\_\\_new\\_\\_() Vs \\_\\_init\\_\\_()\n",
    "\n",
    "1. \\_\\_init\\_\\_()用户对类的实例进行初始化，发生在类实例被创建后，是实例级别方法。\n",
    "2. \\_\\_new\\_\\_()用于控制生成一个新实例的过程，是类级别的方法。\n",
    "3. \\_\\_new\\_\\_()至少有一个cls参数，代表要实例化的类。\n",
    "4. \\_\\_new\\_\\_()必须有返回值，返回实例化出来的实例\n",
    "5. 将类比作制造商，__new__()方法发就是前期的原材料环节，__init__()方法就是在有了原材料的基础上，加工，初始化商品的环节。"
   ]
  },
  {
   "attachments": {},
   "cell_type": "markdown",
   "metadata": {},
   "source": [
    "### 参考资料  \n",
    "[1][知乎-python魔法方法详解](https://zhuanlan.zhihu.com/p/261579683)"
   ]
  }
 ],
 "metadata": {
  "kernelspec": {
   "display_name": "learn",
   "language": "python",
   "name": "python3"
  },
  "language_info": {
   "codemirror_mode": {
    "name": "ipython",
    "version": 3
   },
   "file_extension": ".py",
   "mimetype": "text/x-python",
   "name": "python",
   "nbconvert_exporter": "python",
   "pygments_lexer": "ipython3",
   "version": "3.8.16"
  },
  "orig_nbformat": 4,
  "vscode": {
   "interpreter": {
    "hash": "dda24b90f8538061a5d35d83e224f7feaf66dbd33d87610fc208f277cc82be19"
   }
  }
 },
 "nbformat": 4,
 "nbformat_minor": 2
}
